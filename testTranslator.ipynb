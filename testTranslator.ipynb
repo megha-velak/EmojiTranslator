{
 "cells": [
  {
   "cell_type": "code",
   "execution_count": 2,
   "metadata": {},
   "outputs": [],
   "source": [
    "import pandas as pd\n",
    "import matplotlib.pyplot as plt\n",
    "import numpy as np\n",
    "import string"
   ]
  },
  {
   "cell_type": "code",
   "execution_count": 3,
   "metadata": {},
   "outputs": [
    {
     "data": {
      "text/html": [
       "<div>\n",
       "<style scoped>\n",
       "    .dataframe tbody tr th:only-of-type {\n",
       "        vertical-align: middle;\n",
       "    }\n",
       "\n",
       "    .dataframe tbody tr th {\n",
       "        vertical-align: top;\n",
       "    }\n",
       "\n",
       "    .dataframe thead th {\n",
       "        text-align: right;\n",
       "    }\n",
       "</style>\n",
       "<table border=\"1\" class=\"dataframe\">\n",
       "  <thead>\n",
       "    <tr style=\"text-align: right;\">\n",
       "      <th></th>\n",
       "      <th>emoji</th>\n",
       "      <th>name</th>\n",
       "      <th>group</th>\n",
       "      <th>sub_group</th>\n",
       "      <th>codepoints</th>\n",
       "    </tr>\n",
       "  </thead>\n",
       "  <tbody>\n",
       "    <tr>\n",
       "      <th>0</th>\n",
       "      <td>😀</td>\n",
       "      <td>grinning face</td>\n",
       "      <td>Smileys &amp; Emotion</td>\n",
       "      <td>face-smiling</td>\n",
       "      <td>1F600</td>\n",
       "    </tr>\n",
       "    <tr>\n",
       "      <th>1</th>\n",
       "      <td>😃</td>\n",
       "      <td>grinning face with big eyes</td>\n",
       "      <td>Smileys &amp; Emotion</td>\n",
       "      <td>face-smiling</td>\n",
       "      <td>1F603</td>\n",
       "    </tr>\n",
       "    <tr>\n",
       "      <th>2</th>\n",
       "      <td>😄</td>\n",
       "      <td>grinning face with smiling eyes</td>\n",
       "      <td>Smileys &amp; Emotion</td>\n",
       "      <td>face-smiling</td>\n",
       "      <td>1F604</td>\n",
       "    </tr>\n",
       "    <tr>\n",
       "      <th>3</th>\n",
       "      <td>😁</td>\n",
       "      <td>beaming face with smiling eyes</td>\n",
       "      <td>Smileys &amp; Emotion</td>\n",
       "      <td>face-smiling</td>\n",
       "      <td>1F601</td>\n",
       "    </tr>\n",
       "    <tr>\n",
       "      <th>4</th>\n",
       "      <td>😆</td>\n",
       "      <td>grinning squinting face</td>\n",
       "      <td>Smileys &amp; Emotion</td>\n",
       "      <td>face-smiling</td>\n",
       "      <td>1F606</td>\n",
       "    </tr>\n",
       "  </tbody>\n",
       "</table>\n",
       "</div>"
      ],
      "text/plain": [
       "  emoji                             name              group     sub_group  \\\n",
       "0     😀                    grinning face  Smileys & Emotion  face-smiling   \n",
       "1     😃      grinning face with big eyes  Smileys & Emotion  face-smiling   \n",
       "2     😄  grinning face with smiling eyes  Smileys & Emotion  face-smiling   \n",
       "3     😁   beaming face with smiling eyes  Smileys & Emotion  face-smiling   \n",
       "4     😆          grinning squinting face  Smileys & Emotion  face-smiling   \n",
       "\n",
       "  codepoints  \n",
       "0      1F600  \n",
       "1      1F603  \n",
       "2      1F604  \n",
       "3      1F601  \n",
       "4      1F606  "
      ]
     },
     "execution_count": 3,
     "metadata": {},
     "output_type": "execute_result"
    }
   ],
   "source": [
    "df = pd.read_csv(\"emoji_df.csv\")\n",
    "df.head()"
   ]
  },
  {
   "cell_type": "code",
   "execution_count": 4,
   "metadata": {},
   "outputs": [
    {
     "name": "stderr",
     "output_type": "stream",
     "text": [
      "[nltk_data] Downloading package punkt to /Users/megha/nltk_data...\n",
      "[nltk_data]   Package punkt is already up-to-date!\n",
      "[nltk_data] Downloading package stopwords to /Users/megha/nltk_data...\n",
      "[nltk_data]   Package stopwords is already up-to-date!\n"
     ]
    },
    {
     "data": {
      "text/plain": [
       "True"
      ]
     },
     "execution_count": 4,
     "metadata": {},
     "output_type": "execute_result"
    }
   ],
   "source": [
    "import nltk\n",
    "from nltk.corpus import stopwords\n",
    "from nltk.tokenize import word_tokenize\n",
    "import string\n",
    "nltk.download('punkt')\n",
    "nltk.download('stopwords')"
   ]
  },
  {
   "cell_type": "code",
   "execution_count": 5,
   "metadata": {},
   "outputs": [],
   "source": [
    "# preprocess text\n",
    "def preprocess(text):\n",
    "    tokens = word_tokenize(text)\n",
    "    \n",
    "    # remove punctuation\n",
    "    tokens = [word.lower() for word in tokens if word.isalpha()]\n",
    "    \n",
    "    # remove stop words\n",
    "    stop_words = set(stopwords.words('english'))\n",
    "    tokens = [word for word in tokens if word not in stop_words]\n",
    "    \n",
    "    return tokens"
   ]
  },
  {
   "cell_type": "code",
   "execution_count": 6,
   "metadata": {},
   "outputs": [],
   "source": [
    "groups = df['group'].unique()\n",
    "sub_groups = df['sub_group'].unique()\n",
    "df = df[df['name'] != 'thread']"
   ]
  },
  {
   "cell_type": "code",
   "execution_count": 7,
   "metadata": {},
   "outputs": [
    {
     "name": "stderr",
     "output_type": "stream",
     "text": [
      "/Users/megha/Library/Python/3.9/lib/python/site-packages/urllib3/__init__.py:35: NotOpenSSLWarning: urllib3 v2 only supports OpenSSL 1.1.1+, currently the 'ssl' module is compiled with 'LibreSSL 2.8.3'. See: https://github.com/urllib3/urllib3/issues/3020\n",
      "  warnings.warn(\n",
      "/Users/megha/Library/Python/3.9/lib/python/site-packages/tqdm/auto.py:21: TqdmWarning: IProgress not found. Please update jupyter and ipywidgets. See https://ipywidgets.readthedocs.io/en/stable/user_install.html\n",
      "  from .autonotebook import tqdm as notebook_tqdm\n"
     ]
    }
   ],
   "source": [
    "from transformers import pipeline\n",
    "classifier = pipeline('zero-shot-classification', model='facebook/bart-large-mnli')"
   ]
  },
  {
   "cell_type": "code",
   "execution_count": 9,
   "metadata": {},
   "outputs": [],
   "source": [
    "word = \"apple\"\n",
    "hypothesis_template = 'This text is about {}.'\n",
    "prediction = classifier(word, sub_groups, hypothesis_template=hypothesis_template, multi_label=True)\n",
    "prediction"
   ]
  },
  {
   "cell_type": "code",
   "execution_count": 10,
   "metadata": {},
   "outputs": [
    {
     "data": {
      "text/plain": [
       "['Food & Drink', 0.3914111852645874]"
      ]
     },
     "execution_count": 10,
     "metadata": {},
     "output_type": "execute_result"
    }
   ],
   "source": [
    "# get most likely group based on a word\n",
    "def get_group(word, groups):\n",
    "    hypothesis_template = 'This text is about {}.'\n",
    "    prediction = classifier(word, groups, hypothesis_template=hypothesis_template, multi_label=True)\n",
    "    return [prediction['labels'][0], prediction['scores'][0]]\n",
    "\n",
    "get_group('apple',groups)"
   ]
  },
  {
   "cell_type": "code",
   "execution_count": 39,
   "metadata": {},
   "outputs": [],
   "source": [
    "def word_to_emoji(word):\n",
    "    # first look for direct matches\n",
    "    if word in df.loc[df['name'] == word, 'name'].values:\n",
    "        return [df.loc[df['name'] == word, 'emoji'].values[0], 1]\n",
    "    \n",
    "    # next look for indirect matches\n",
    "    if any(df['name'].str.contains(word, case=False)):\n",
    "        possible_emojis = df[df['name'].str.contains(word, case=False)]['name'].tolist()\n",
    "        flag = 1\n",
    "    else:\n",
    "        group = get_group(word, groups)\n",
    "        # print(\"group:\",group)\n",
    "\n",
    "        # option 1: separate into subgroups before choosing a possible emoji\n",
    "        # possible_subgroups = df[df['group'] == group[0]]['sub_group'].unique()\n",
    "        # print(\"possible subgroups:\",possible_subgroups)\n",
    "        # subgroup = get_group(word, possible_subgroups)\n",
    "        # print(\"subgroup:\",subgroup)\n",
    "        # possible_emojis = df[df['sub_group'] == subgroup[0]]['name'].unique()\n",
    "\n",
    "        # option 2: choose directly from group\n",
    "        possible_emojis = df[df['group'] == group[0]]['name'].unique()\n",
    "        flag = 0\n",
    "\n",
    "    # print(\"possible emojis:\",possible_emojis)\n",
    "    name = get_group(word,possible_emojis)\n",
    "    # print(name)\n",
    "    if flag == 1: return [df[df['name'] == name[0]].iloc[0]['emoji'], 1]\n",
    "    else: return [df[df['name'] == name[0]].iloc[0]['emoji'], name[1]]\n",
    "\n",
    "# print(word_to_emoji('happy'))"
   ]
  },
  {
   "cell_type": "markdown",
   "metadata": {},
   "source": [
    "Sample text:\n",
    "\n",
    "The house is on fire!\n",
    "\n",
    "I'm so happy today!\n",
    "\n",
    "The early bird catches the worm.\n",
    "\n",
    "Just had the best pizza ever!\n",
    "\n",
    "The dog is chasing the ball in the park.\n",
    "\n",
    "The flower is blooming beautifully in the garden."
   ]
  },
  {
   "cell_type": "code",
   "execution_count": 51,
   "metadata": {},
   "outputs": [
    {
     "name": "stdout",
     "output_type": "stream",
     "text": [
      "input text: The house is on fire!\n",
      "emoji translation: 🏠🔥\n"
     ]
    }
   ],
   "source": [
    "# convert input text to emojis\n",
    "input = \"The house is on fire!\"\n",
    "print('input text:',input)\n",
    "\n",
    "input = preprocess(input)\n",
    "# print('preprocessed input text:',input)\n",
    "\n",
    "emoji_translation = ''\n",
    "for word in input:\n",
    "    emoji = word_to_emoji(word)\n",
    "    if emoji[1] > 0.95: # cutoff for accuracy\n",
    "        emoji_translation = emoji_translation + emoji[0]\n",
    "    # print(emoji)\n",
    "\n",
    "print('emoji translation:',emoji_translation)"
   ]
  }
 ],
 "metadata": {
  "kernelspec": {
   "display_name": "Python 3",
   "language": "python",
   "name": "python3"
  },
  "language_info": {
   "codemirror_mode": {
    "name": "ipython",
    "version": 3
   },
   "file_extension": ".py",
   "mimetype": "text/x-python",
   "name": "python",
   "nbconvert_exporter": "python",
   "pygments_lexer": "ipython3",
   "version": "3.9.6"
  }
 },
 "nbformat": 4,
 "nbformat_minor": 2
}
