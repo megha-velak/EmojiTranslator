{
 "cells": [
  {
   "cell_type": "code",
   "execution_count": 28,
   "metadata": {},
   "outputs": [],
   "source": [
    "import pandas as pd\n",
    "import matplotlib.pyplot as plt\n",
    "import numpy as np"
   ]
  },
  {
   "cell_type": "code",
   "execution_count": 29,
   "metadata": {},
   "outputs": [
    {
     "data": {
      "text/html": [
       "<div>\n",
       "<style scoped>\n",
       "    .dataframe tbody tr th:only-of-type {\n",
       "        vertical-align: middle;\n",
       "    }\n",
       "\n",
       "    .dataframe tbody tr th {\n",
       "        vertical-align: top;\n",
       "    }\n",
       "\n",
       "    .dataframe thead th {\n",
       "        text-align: right;\n",
       "    }\n",
       "</style>\n",
       "<table border=\"1\" class=\"dataframe\">\n",
       "  <thead>\n",
       "    <tr style=\"text-align: right;\">\n",
       "      <th></th>\n",
       "      <th>emoji</th>\n",
       "      <th>name</th>\n",
       "      <th>group</th>\n",
       "      <th>sub_group</th>\n",
       "      <th>codepoints</th>\n",
       "    </tr>\n",
       "  </thead>\n",
       "  <tbody>\n",
       "    <tr>\n",
       "      <th>0</th>\n",
       "      <td>😀</td>\n",
       "      <td>grinning face</td>\n",
       "      <td>Smileys &amp; Emotion</td>\n",
       "      <td>face-smiling</td>\n",
       "      <td>1F600</td>\n",
       "    </tr>\n",
       "    <tr>\n",
       "      <th>1</th>\n",
       "      <td>😃</td>\n",
       "      <td>grinning face with big eyes</td>\n",
       "      <td>Smileys &amp; Emotion</td>\n",
       "      <td>face-smiling</td>\n",
       "      <td>1F603</td>\n",
       "    </tr>\n",
       "    <tr>\n",
       "      <th>2</th>\n",
       "      <td>😄</td>\n",
       "      <td>grinning face with smiling eyes</td>\n",
       "      <td>Smileys &amp; Emotion</td>\n",
       "      <td>face-smiling</td>\n",
       "      <td>1F604</td>\n",
       "    </tr>\n",
       "    <tr>\n",
       "      <th>3</th>\n",
       "      <td>😁</td>\n",
       "      <td>beaming face with smiling eyes</td>\n",
       "      <td>Smileys &amp; Emotion</td>\n",
       "      <td>face-smiling</td>\n",
       "      <td>1F601</td>\n",
       "    </tr>\n",
       "    <tr>\n",
       "      <th>4</th>\n",
       "      <td>😆</td>\n",
       "      <td>grinning squinting face</td>\n",
       "      <td>Smileys &amp; Emotion</td>\n",
       "      <td>face-smiling</td>\n",
       "      <td>1F606</td>\n",
       "    </tr>\n",
       "  </tbody>\n",
       "</table>\n",
       "</div>"
      ],
      "text/plain": [
       "  emoji                             name              group     sub_group  \\\n",
       "0     😀                    grinning face  Smileys & Emotion  face-smiling   \n",
       "1     😃      grinning face with big eyes  Smileys & Emotion  face-smiling   \n",
       "2     😄  grinning face with smiling eyes  Smileys & Emotion  face-smiling   \n",
       "3     😁   beaming face with smiling eyes  Smileys & Emotion  face-smiling   \n",
       "4     😆          grinning squinting face  Smileys & Emotion  face-smiling   \n",
       "\n",
       "  codepoints  \n",
       "0      1F600  \n",
       "1      1F603  \n",
       "2      1F604  \n",
       "3      1F601  \n",
       "4      1F606  "
      ]
     },
     "execution_count": 29,
     "metadata": {},
     "output_type": "execute_result"
    }
   ],
   "source": [
    "df = pd.read_csv(\"emoji_df.csv\")\n",
    "df.head()"
   ]
  },
  {
   "cell_type": "code",
   "execution_count": 30,
   "metadata": {},
   "outputs": [
    {
     "data": {
      "text/html": [
       "<div>\n",
       "<style scoped>\n",
       "    .dataframe tbody tr th:only-of-type {\n",
       "        vertical-align: middle;\n",
       "    }\n",
       "\n",
       "    .dataframe tbody tr th {\n",
       "        vertical-align: top;\n",
       "    }\n",
       "\n",
       "    .dataframe thead th {\n",
       "        text-align: right;\n",
       "    }\n",
       "</style>\n",
       "<table border=\"1\" class=\"dataframe\">\n",
       "  <thead>\n",
       "    <tr style=\"text-align: right;\">\n",
       "      <th></th>\n",
       "      <th>Quote</th>\n",
       "      <th>Author</th>\n",
       "      <th>Tags</th>\n",
       "    </tr>\n",
       "  </thead>\n",
       "  <tbody>\n",
       "    <tr>\n",
       "      <th>0</th>\n",
       "      <td>Be yourself; everyone else is already taken.</td>\n",
       "      <td>Oscar Wilde</td>\n",
       "      <td>attributed-no-source,       be-yourself...</td>\n",
       "    </tr>\n",
       "    <tr>\n",
       "      <th>1</th>\n",
       "      <td>I'm selfish, impatient and a little insecure. ...</td>\n",
       "      <td>Marilyn Monroe</td>\n",
       "      <td>attributed-no-source,       best,      ...</td>\n",
       "    </tr>\n",
       "    <tr>\n",
       "      <th>2</th>\n",
       "      <td>Two things are infinite: the universe and huma...</td>\n",
       "      <td>Albert Einstein</td>\n",
       "      <td>attributed-no-source,       human-natur...</td>\n",
       "    </tr>\n",
       "    <tr>\n",
       "      <th>3</th>\n",
       "      <td>So many books, so little time.</td>\n",
       "      <td>Frank Zappa</td>\n",
       "      <td>books,       humor</td>\n",
       "    </tr>\n",
       "    <tr>\n",
       "      <th>4</th>\n",
       "      <td>A room without books is like a body without a ...</td>\n",
       "      <td>Marcus Tullius Cicero</td>\n",
       "      <td>attributed-no-source,       books,     ...</td>\n",
       "    </tr>\n",
       "  </tbody>\n",
       "</table>\n",
       "</div>"
      ],
      "text/plain": [
       "                                               Quote                 Author  \\\n",
       "0       Be yourself; everyone else is already taken.            Oscar Wilde   \n",
       "1  I'm selfish, impatient and a little insecure. ...         Marilyn Monroe   \n",
       "2  Two things are infinite: the universe and huma...        Albert Einstein   \n",
       "3                     So many books, so little time.            Frank Zappa   \n",
       "4  A room without books is like a body without a ...  Marcus Tullius Cicero   \n",
       "\n",
       "                                                Tags  \n",
       "0         attributed-no-source,       be-yourself...  \n",
       "1         attributed-no-source,       best,      ...  \n",
       "2         attributed-no-source,       human-natur...  \n",
       "3                                 books,       humor  \n",
       "4         attributed-no-source,       books,     ...  "
      ]
     },
     "execution_count": 30,
     "metadata": {},
     "output_type": "execute_result"
    }
   ],
   "source": [
    "quotes = pd.read_csv(\"Quotes.csv\",index_col=0)\n",
    "quotes.head()"
   ]
  },
  {
   "cell_type": "code",
   "execution_count": 9,
   "metadata": {},
   "outputs": [
    {
     "name": "stderr",
     "output_type": "stream",
     "text": [
      "[nltk_data] Downloading package punkt to /Users/megha/nltk_data...\n",
      "[nltk_data]   Package punkt is already up-to-date!\n",
      "[nltk_data] Downloading package stopwords to /Users/megha/nltk_data...\n",
      "[nltk_data]   Package stopwords is already up-to-date!\n"
     ]
    },
    {
     "data": {
      "text/plain": [
       "True"
      ]
     },
     "execution_count": 9,
     "metadata": {},
     "output_type": "execute_result"
    }
   ],
   "source": [
    "import nltk\n",
    "from nltk.corpus import stopwords\n",
    "from nltk.tokenize import word_tokenize\n",
    "import string\n",
    "nltk.download('punkt')\n",
    "nltk.download('stopwords')"
   ]
  },
  {
   "cell_type": "code",
   "execution_count": 31,
   "metadata": {},
   "outputs": [],
   "source": [
    "# clean quotes data\n",
    "quotes = quotes.dropna(subset=['Quote'])"
   ]
  },
  {
   "cell_type": "code",
   "execution_count": 32,
   "metadata": {},
   "outputs": [
    {
     "name": "stdout",
     "output_type": "stream",
     "text": [
      "                                                  Quote  \\\n",
      "0          Be yourself; everyone else is already taken.   \n",
      "1     I'm selfish, impatient and a little insecure. ...   \n",
      "2     Two things are infinite: the universe and huma...   \n",
      "3                        So many books, so little time.   \n",
      "4     A room without books is like a body without a ...   \n",
      "...                                                 ...   \n",
      "2995  Dogs are our link to paradise. They don't know...   \n",
      "2996  What else? She is so beautiful. You don’t get ...   \n",
      "2997  Sleep, those little slices of death — how I lo...   \n",
      "2998      Dreams are the touchstones of our characters.   \n",
      "2999  Yes, we praise women over 40 for a multitude o...   \n",
      "\n",
      "                                     Preprocessed Quote  \n",
      "0                      [everyone, else, already, taken]  \n",
      "1     [selfish, impatient, little, insecure, make, m...  \n",
      "2     [two, things, infinite, universe, human, stupi...  \n",
      "3                           [many, books, little, time]  \n",
      "4     [room, without, books, like, body, without, soul]  \n",
      "...                                                 ...  \n",
      "2995  [dogs, link, paradise, know, evil, jealousy, d...  \n",
      "2996  [else, beautiful, get, tired, looking, never, ...  \n",
      "2997             [sleep, little, slices, death, loathe]  \n",
      "2998                  [dreams, touchstones, characters]  \n",
      "2999  [yes, praise, women, multitude, reasons, unfor...  \n",
      "\n",
      "[2999 rows x 2 columns]\n"
     ]
    }
   ],
   "source": [
    "# preprocess quotes\n",
    "def preprocess(text):\n",
    "    tokens = word_tokenize(text)\n",
    "    \n",
    "    # remove punctuation\n",
    "    tokens = [word.lower() for word in tokens if word.isalpha()]\n",
    "    \n",
    "    # remove stop words\n",
    "    stop_words = set(stopwords.words('english'))\n",
    "    tokens = [word for word in tokens if word not in stop_words]\n",
    "    \n",
    "    return tokens\n",
    "\n",
    "quotes['Preprocessed Quote'] = quotes['Quote'].apply(preprocess)\n",
    "print(quotes[['Quote', 'Preprocessed Quote']])"
   ]
  },
  {
   "cell_type": "code",
   "execution_count": 34,
   "metadata": {},
   "outputs": [],
   "source": [
    "groups = df['group'].unique()\n",
    "sub_groups = df['sub_group'].unique()\n",
    "emojis = df['name']"
   ]
  },
  {
   "cell_type": "code",
   "execution_count": 44,
   "metadata": {},
   "outputs": [],
   "source": [
    "from transformers import BertTokenizer, BertModel\n",
    "import torch\n",
    "from sklearn.metrics.pairwise import cosine_similarity"
   ]
  },
  {
   "cell_type": "code",
   "execution_count": null,
   "metadata": {},
   "outputs": [],
   "source": []
  },
  {
   "cell_type": "code",
   "execution_count": null,
   "metadata": {},
   "outputs": [],
   "source": [
    "#Next, write a function to match a word with an emoji: \n",
    "# groups: ['Smileys & Emotion' 'People & Body' 'Animals & Nature' 'Food & Drink' 'Travel & Places' 'Activities' 'Objects' 'Symbols' 'Flags']"
   ]
  }
 ],
 "metadata": {
  "kernelspec": {
   "display_name": "Python 3",
   "language": "python",
   "name": "python3"
  },
  "language_info": {
   "codemirror_mode": {
    "name": "ipython",
    "version": 3
   },
   "file_extension": ".py",
   "mimetype": "text/x-python",
   "name": "python",
   "nbconvert_exporter": "python",
   "pygments_lexer": "ipython3",
   "version": "3.9.6"
  }
 },
 "nbformat": 4,
 "nbformat_minor": 2
}
