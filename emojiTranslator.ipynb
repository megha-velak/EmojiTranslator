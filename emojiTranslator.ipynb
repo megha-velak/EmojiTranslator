{
 "cells": [
  {
   "cell_type": "code",
   "execution_count": 3,
   "metadata": {},
   "outputs": [],
   "source": [
    "import pandas as pd\n",
    "df = pd.read_csv(\"emoji_df.csv\")\n",
    "\n",
    "import nltk\n",
    "from nltk.corpus import stopwords\n",
    "from nltk.tokenize import word_tokenize\n",
    "import string\n",
    "# nltk.download('punkt')\n",
    "# nltk.download('stopwords')\n",
    "\n",
    "# preprocess text\n",
    "def preprocess(text):\n",
    "    tokens = word_tokenize(text)\n",
    "    \n",
    "    # remove punctuation\n",
    "    tokens = [word.lower() for word in tokens if word.isalpha()]\n",
    "    \n",
    "    # remove stop words\n",
    "    stop_words = set(stopwords.words('english'))\n",
    "    tokens = [word for word in tokens if word not in stop_words]\n",
    "    \n",
    "    return tokens\n",
    "\n",
    "groups = df['group'].unique()\n",
    "sub_groups = df['sub_group'].unique()\n",
    "df = df[df['name'] != 'thread']\n",
    "\n",
    "from transformers import pipeline\n",
    "classifier = pipeline('zero-shot-classification', model='facebook/bart-large-mnli')\n",
    "\n",
    "# get most likely group based on a word\n",
    "def get_group(word, groups):\n",
    "    hypothesis_template = 'This text is about {}.'\n",
    "    prediction = classifier(word, groups, hypothesis_template=hypothesis_template, multi_label=True)\n",
    "    return [prediction['labels'][0], prediction['scores'][0]]\n",
    "\n",
    "def word_to_emoji(word):\n",
    "    # first look for direct matches\n",
    "    if word in df.loc[df['name'] == word, 'name'].values:\n",
    "        return df.loc[df['name'] == word, 'emoji'].values[0]\n",
    "    group = get_group(word, groups)\n",
    "    possible_emojis = df[df['group'] == group[0]]['name'].unique()\n",
    "    name = get_group(word,possible_emojis)\n",
    "    return [df[df['name'] == name[0]].iloc[0]['emoji'], name[1]]"
   ]
  },
  {
   "cell_type": "code",
   "execution_count": 4,
   "metadata": {},
   "outputs": [
    {
     "name": "stdout",
     "output_type": "stream",
     "text": [
      "Input text: the house is on fire\n",
      "emoji translation: 🏠🔥\n"
     ]
    }
   ],
   "source": [
    "# convert input text to emojis\n",
    "user_input = input(\"Please enter your input text: \")\n",
    "input_str = str(user_input)\n",
    "print('Input text:', input_str)\n",
    "\n",
    "input_str = preprocess(input_str)\n",
    "\n",
    "emoji_translation = ''\n",
    "for word in input_str:\n",
    "    emoji = word_to_emoji(word)\n",
    "    emoji_translation = emoji_translation + emoji[0]\n",
    "\n",
    "print('emoji translation:',emoji_translation)"
   ]
  }
 ],
 "metadata": {
  "kernelspec": {
   "display_name": "Python 3",
   "language": "python",
   "name": "python3"
  },
  "language_info": {
   "codemirror_mode": {
    "name": "ipython",
    "version": 3
   },
   "file_extension": ".py",
   "mimetype": "text/x-python",
   "name": "python",
   "nbconvert_exporter": "python",
   "pygments_lexer": "ipython3",
   "version": "3.9.6"
  }
 },
 "nbformat": 4,
 "nbformat_minor": 2
}
